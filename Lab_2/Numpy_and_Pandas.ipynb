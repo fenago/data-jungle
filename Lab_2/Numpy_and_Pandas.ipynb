{
 "cells": [
  {
   "cell_type": "markdown",
   "metadata": {
    "colab_type": "text",
    "id": "EgrClAlpC8s-"
   },
   "source": [
    "# Python operations"
   ]
  },
  {
   "cell_type": "code",
   "execution_count": null,
   "metadata": {
    "colab": {
     "base_uri": "https://localhost:8080/",
     "height": 34
    },
    "colab_type": "code",
    "id": "ZuQjJSf9C0ko",
    "outputId": "0289376d-5b39-4737-9ea4-c0e8897fc8f3"
   },
   "outputs": [],
   "source": [
    "class Disease:\n",
    "  def __init__(self, disease = 'Depression'):\n",
    "    self.type = disease\n",
    "    \n",
    "  def getName(self):\n",
    "    print(\"Mental Health Diseases: {0}\".format(self.type))\n",
    "\n",
    "d1 = Disease('Social Anxiety Disorder')\n",
    "d1.getName()"
   ]
  },
  {
   "cell_type": "code",
   "execution_count": null,
   "metadata": {
    "colab": {
     "base_uri": "https://localhost:8080/",
     "height": 34
    },
    "colab_type": "code",
    "id": "kTyrcThEDCIU",
    "outputId": "65d7db92-cd4f-448b-bb59-a1cd1a011845"
   },
   "outputs": [],
   "source": [
    "# Try Catch Block\n",
    "# The try block will generate a NameError, because x is not defined:\n",
    "\n",
    "try:\n",
    "  print(y)\n",
    "except NameError:\n",
    "  print(\"Well, the variable y is not defined\")\n",
    "except:\n",
    "  print(\"OMG, Something else went wrong\")\n"
   ]
  },
  {
   "cell_type": "code",
   "execution_count": null,
   "metadata": {
    "colab": {
     "base_uri": "https://localhost:8080/",
     "height": 51
    },
    "colab_type": "code",
    "id": "iGbKigYzD4rM",
    "outputId": "c1270b91-ce4b-42b2-b8f0-53edf3c0e7b6"
   },
   "outputs": [],
   "source": [
    "\n",
    "try:\n",
    " Value = int(input(\"Type a number between 1 and 10:\"))\n",
    "except ValueError:\n",
    "  print(\"You must type a number between 1 and 10!\")\n",
    "else:\n",
    "  if (Value > 0) and (Value <= 10):\n",
    "      print(\"You typed: \", Value)\n",
    "  else:\n",
    "      print(\"The value you typed is incorrect!\")\n"
   ]
  },
  {
   "cell_type": "markdown",
   "metadata": {
    "colab_type": "text",
    "id": "xNPYSP_aDxgz"
   },
   "source": [
    "# Numpy Array Basics"
   ]
  },
  {
   "cell_type": "code",
   "execution_count": null,
   "metadata": {
    "colab": {
     "base_uri": "https://localhost:8080/",
     "height": 170
    },
    "colab_type": "code",
    "id": "GVMckxhaDsrH",
    "outputId": "e2a06eb3-b689-4e96-e66c-aefb8f740a53"
   },
   "outputs": [],
   "source": [
    "# importing numpy\n",
    "import numpy as np\n",
    "\n",
    "# Defining 1D array\n",
    "my1DArray = np.array([1, 8, 27, 64])\n",
    "print(my1DArray)\n",
    "\n",
    "# Defining and printing 2D array\n",
    "my2DArray = np.array([[1, 2, 3, 4], [2, 4, 9, 16], [4, 8, 18, 32]])\n",
    "print(my2DArray)\n",
    "\n",
    "#Defining and printing 3D array\n",
    "my3Darray = np.array([[[ 1, 2 , 3 , 4],[ 5 , 6 , 7  ,8]], [[ 1,  2,  3,  4],[ 9, 10, 11, 12]]])\n",
    "print(my3Darray)\n",
    "\n"
   ]
  },
  {
   "cell_type": "code",
   "execution_count": null,
   "metadata": {
    "colab": {
     "base_uri": "https://localhost:8080/",
     "height": 85
    },
    "colab_type": "code",
    "id": "FOHcYUkkF2u-",
    "outputId": "a504d500-aeb6-40cc-aa63-0590900b2a77"
   },
   "outputs": [],
   "source": [
    "# Print out memory address\n",
    "print(my2DArray.data)\n",
    "\n",
    "# Print the shape of array\n",
    "print(my2DArray.shape)\n",
    "\n",
    "# Print out the data type of the array\n",
    "print(my2DArray.dtype)\n",
    "\n",
    "\"\"\"\n",
    "Print the stride of the array.\n",
    "\n",
    "So what is stride of array?  It is the number of locations in memory between \n",
    "beginnings of successive array elements, measured in bytes or in units of the\n",
    "size of the array's elements\n",
    "\"\"\"\n",
    "print(my2DArray.strides)"
   ]
  },
  {
   "cell_type": "markdown",
   "metadata": {
    "colab_type": "text",
    "id": "_tan6CTdpvH3"
   },
   "source": [
    "# Array using numpy built-in functions"
   ]
  },
  {
   "cell_type": "code",
   "execution_count": null,
   "metadata": {
    "colab": {
     "base_uri": "https://localhost:8080/",
     "height": 306
    },
    "colab_type": "code",
    "id": "hXg80w6Wpsqd",
    "outputId": "c19ade55-5dcd-4477-c7bb-f57e566d6cd4"
   },
   "outputs": [],
   "source": [
    "# Array of ones\n",
    "ones = np.ones((3,4))\n",
    "print(ones)\n",
    "\n",
    "# Array of zeros\n",
    "zeros = np.zeros((2,3,4),dtype=np.int16)\n",
    "print(zeros)\n",
    "\n",
    "# Array with random values\n",
    "np.random.random((2,2))\n",
    "\n",
    "# Empty array\n",
    "emptyArray = np.empty((3,2))\n",
    "print(emptyArray)\n",
    "\n",
    "# Full array\n",
    "fullArray = np.full((2,2),7)\n",
    "print(fullArray)\n",
    "\n",
    "# Array of evenly-spaced values\n",
    "evenSpacedArray = np.arange(10,25,5)\n",
    "print(evenSpacedArray)\n",
    "\n",
    "# Array of evenly-spaced values\n",
    "evenSpacedArray2 = np.linspace(0,2,9)\n",
    "print(evenSpacedArray2)"
   ]
  },
  {
   "cell_type": "markdown",
   "metadata": {
    "colab_type": "text",
    "id": "0VMNmT2BqjtF"
   },
   "source": [
    "# Numpy array and file operations"
   ]
  },
  {
   "cell_type": "code",
   "execution_count": null,
   "metadata": {
    "colab": {
     "base_uri": "https://localhost:8080/",
     "height": 139
    },
    "colab_type": "code",
    "id": "87k4xazaqeD7",
    "outputId": "37d23b09-4830-4330-c115-73a0cf87f0bd"
   },
   "outputs": [],
   "source": [
    "# Save a numpy array into file\n",
    "x = np.arange(0.0,50.0,1.0)\n",
    "np.savetxt('data.out', x, delimiter=',')\n",
    "\n",
    "# Loading numpy array from text\n",
    "z = np.loadtxt('data.out', unpack=True)\n",
    "print(z)\n",
    "\n",
    "# Loading numpy array using genfromtxt method\n",
    "my_array2 = np.genfromtxt('data.out',\n",
    "                      skip_header=1,\n",
    "                      filling_values=-999)\n",
    "print(my_array2)"
   ]
  },
  {
   "cell_type": "markdown",
   "metadata": {
    "colab_type": "text",
    "id": "laHX9HM7rd_h"
   },
   "source": [
    "# Inspecting numpy arrays\n"
   ]
  },
  {
   "cell_type": "code",
   "execution_count": null,
   "metadata": {
    "colab": {
     "base_uri": "https://localhost:8080/",
     "height": 204
    },
    "colab_type": "code",
    "id": "hus66cO8rlm6",
    "outputId": "8944dcdd-e851-4d07-bac7-4b11b1539b27"
   },
   "outputs": [],
   "source": [
    "# Print the number of `my2DArray`'s dimensions\n",
    "print(my2DArray.ndim)\n",
    "\n",
    "# Print the number of `my2DArray`'s elements\n",
    "print(my2DArray.size)\n",
    "\n",
    "# Print information about `my2DArray`'s memory layout\n",
    "print(my2DArray.flags)\n",
    "\n",
    "# Print the length of one array element in bytes\n",
    "print(my2DArray.itemsize)\n",
    "\n",
    "# Print the total consumed bytes by `my2DArray`'s elements\n",
    "print(my2DArray.nbytes)"
   ]
  },
  {
   "cell_type": "markdown",
   "metadata": {
    "colab_type": "text",
    "id": "IDr89W2wsHxj"
   },
   "source": [
    "# Broadcasting in NumPy\n",
    "Broadcasting is a mechanism that permits `NumPy` to operate with arrays of different shapes when performing arithmetic operations. "
   ]
  },
  {
   "cell_type": "code",
   "execution_count": null,
   "metadata": {
    "colab": {
     "base_uri": "https://localhost:8080/",
     "height": 255
    },
    "colab_type": "code",
    "id": "3YfESrnBr4Vz",
    "outputId": "fdf4cae0-2c0e-4ced-b73f-d295bf9d6234"
   },
   "outputs": [],
   "source": [
    "# Rule 1: Two dimensions are operatable if they are equal\n",
    "# Create an array of two dimension\n",
    "A =np.ones((6, 8))\n",
    "\n",
    "# Shape of A\n",
    "print(A.shape)\n",
    "\n",
    "# Create another array\n",
    "B = np.random.random((6,8))\n",
    "\n",
    "# Shape of B\n",
    "print(B.shape)\n",
    "\n",
    "# Sum of A and B, here the shape of both the matrix is same.\n",
    "print(A + B)"
   ]
  },
  {
   "cell_type": "code",
   "execution_count": null,
   "metadata": {
    "colab": {
     "base_uri": "https://localhost:8080/",
     "height": 170
    },
    "colab_type": "code",
    "id": "_Q2kSDgrtOYa",
    "outputId": "1c03730e-e563-4ba4-d80b-fc4b8b185e02"
   },
   "outputs": [],
   "source": [
    "# Rule 2: Two dimensions are also comptable when one of them is 1\n",
    "# Initialize `x`\n",
    "x = np.ones((3,4))\n",
    "print(x)\n",
    "\n",
    "# Check shape of `x`\n",
    "print(x.shape)\n",
    "\n",
    "# Initialize `y`\n",
    "y = np.arange(4)\n",
    "print(y)\n",
    "\n",
    "# Check shape of `y`\n",
    "print(y.shape)\n",
    "\n",
    "# Subtract `x` and `y`\n",
    "x - y "
   ]
  },
  {
   "cell_type": "code",
   "execution_count": null,
   "metadata": {
    "colab": {
     "base_uri": "https://localhost:8080/",
     "height": 1000
    },
    "colab_type": "code",
    "id": "qiHoL40gu4Kb",
    "outputId": "b30df0c7-ff47-4a27-a347-13835a4f7c11"
   },
   "outputs": [],
   "source": [
    "# Rule 3: Arrays can be broadcasted together if they are compatible in all dimensions\n",
    "\n",
    "x = np.ones((6,8))\n",
    "y = np.random.random((10, 1, 8))\n",
    "print(x + y)\n",
    "\n",
    "# Analytical question\n",
    "\"\"\"\n",
    "The dimensions of x(6,8) and y(10,1,8) are diffrent. However, it is possible \n",
    "to add them. Why is that? Also, change y(10,2,8) or y(10,1,4) it will \n",
    "give ValueError. Can you find out why?\n",
    "\"\"\""
   ]
  },
  {
   "cell_type": "markdown",
   "metadata": {
    "colab_type": "text",
    "id": "y37QrG2wwMXR"
   },
   "source": [
    "# Numpy and mathematics at work"
   ]
  },
  {
   "cell_type": "code",
   "execution_count": null,
   "metadata": {
    "colab": {
     "base_uri": "https://localhost:8080/",
     "height": 187
    },
    "colab_type": "code",
    "id": "iL_3It22wIxl",
    "outputId": "23fae4a2-3b6f-4121-a212-961a184125a0"
   },
   "outputs": [],
   "source": [
    "# Basica operations (+, -, *, /, %)\n",
    "x = np.array([[1, 2, 3], [2, 3, 4]])\n",
    "y = np.array([[1, 4, 9], [2, 3, -2]])\n",
    "\n",
    "# Add two array\n",
    "add = np.add(x, y)\n",
    "print(add)\n",
    "\n",
    "# Subtract two array\n",
    "sub = np.subtract(x, y)\n",
    "print(sub)\n",
    "\n",
    "# Multipley two array\n",
    "mul = np.multiply(x, y)\n",
    "print(mul)\n",
    "\n",
    "# Divide x, y\n",
    "div = np.divide(x,y)\n",
    "print(div)\n",
    "\n",
    "# Calculated the remainder of x and y\n",
    "rem = np.remainder(x, y)\n",
    "print(rem)\n"
   ]
  },
  {
   "cell_type": "markdown",
   "metadata": {
    "colab_type": "text",
    "id": "FOOhlPsG2Xz4"
   },
   "source": [
    "# Subset, Slice, And Index Arrays"
   ]
  },
  {
   "cell_type": "code",
   "execution_count": null,
   "metadata": {
    "colab": {
     "base_uri": "https://localhost:8080/",
     "height": 68
    },
    "colab_type": "code",
    "id": "VaTOwWvJ2Q39",
    "outputId": "c849ff83-8b1a-4c07-9825-8f85d7a7fcfa"
   },
   "outputs": [],
   "source": [
    "x = np.array([10, 20, 30, 40, 50])\n",
    "\n",
    "# Select items at index 0 and 1\n",
    "print(x[0:2])\n",
    "\n",
    "# Select item at row 0 and 1 and column 1 from 2D array\n",
    "y = np.array([[ 1,  2,  3,  4], [ 9, 10, 11 ,12]])\n",
    "print(y[0:2, 1])\n",
    "\n",
    "# Specifying conditions\n",
    "biggerThan2 = (y >= 2)\n",
    "print(y[biggerThan2])"
   ]
  },
  {
   "cell_type": "code",
   "execution_count": null,
   "metadata": {
    "colab": {},
    "colab_type": "code",
    "id": "RoCi1SRZ828a"
   },
   "outputs": [],
   "source": [
    "# Importing pandas\n",
    "import pandas as pd"
   ]
  },
  {
   "cell_type": "markdown",
   "metadata": {
    "colab_type": "text",
    "id": "ZOM356yE9E5x"
   },
   "source": [
    "# Can you set default parameters in Pandas?\n"
   ]
  },
  {
   "cell_type": "code",
   "execution_count": null,
   "metadata": {
    "colab": {
     "base_uri": "https://localhost:8080/",
     "height": 34
    },
    "colab_type": "code",
    "id": "3H-cxbK69KJK",
    "outputId": "29ad6f8c-e3ad-4406-bd22-856dcf7561e1"
   },
   "outputs": [],
   "source": [
    "print(\"Pandas Version:\", pd.__version__)\n",
    "\n",
    "pd.set_option('display.max_columns', 500)\n",
    "pd.set_option('display.max_rows', 500)\n"
   ]
  },
  {
   "cell_type": "markdown",
   "metadata": {
    "colab_type": "text",
    "id": "3NzGxP-39TS9"
   },
   "source": [
    "# Data strcutre of pandas\n",
    "\n",
    "\n",
    "*   Series\n",
    "*   DataFrames\n",
    "\n",
    "\n"
   ]
  },
  {
   "cell_type": "code",
   "execution_count": null,
   "metadata": {
    "colab": {
     "base_uri": "https://localhost:8080/",
     "height": 445
    },
    "colab_type": "code",
    "id": "i_rBemUy9Qjx",
    "outputId": "a59a223a-fa30-4047-a82d-cb23929ec6a5"
   },
   "outputs": [],
   "source": [
    "series = pd.Series([2, 3, 7, 11, 13, 17, 19, 23])\n",
    "print(series)\n",
    "\n",
    "# Creating dataframe from Dictionary\n",
    "dict_df = [{'A': 'Apple', 'B': 'Ball'},{'A': 'Aeroplane', 'B': 'Bat', 'C': 'Cat'}]\n",
    "dict_df = pd.DataFrame(dict_df)\n",
    "print(dict_df)\n",
    "  \n",
    "# Creating dataframe from Series\n",
    "series_df = pd.DataFrame({\n",
    "    'A': range(1, 5),\n",
    "    'B': pd.Timestamp('20190526'),\n",
    "    'C': pd.Series(5, index=list(range(4)), dtype='float64'),\n",
    "    'D': np.array([3] * 4, dtype='int64'),\n",
    "    'E': pd.Categorical([\"Depression\", \"Social Anxiety\", \"Bipolar Disorder\", \"Eating Disorder\"]),\n",
    "    'F': 'Mental health',\n",
    "    'G': 'is challenging'\n",
    "})\n",
    "print(series_df)\n",
    "\n",
    "# Creating a dataframe from ndarrays\n",
    "sdf = {\n",
    "    'County':['Østfold', 'Hordaland', 'Oslo', 'Hedmark', 'Oppland', 'Buskerud'],\n",
    "    'ISO-Code':[1,2,3,4,5,6],\n",
    "    'Area': [4180.69, 4917.94, 454.07, 27397.76, 25192.10, 14910.94],\n",
    "    'Administrative centre': [\"Sarpsborg\", \"Oslo\", \"City of Oslo\", \"Hamar\", \"Lillehammer\", \"Drammen\"]\n",
    "    }\n",
    "sdf = pd.DataFrame(sdf)\n",
    "print(sdf)"
   ]
  },
  {
   "cell_type": "markdown",
   "metadata": {
    "colab_type": "text",
    "id": "3nvUnfDWKQnt"
   },
   "source": [
    "# Loading a dataset into Pandas DataFrame\n",
    "\n"
   ]
  },
  {
   "cell_type": "code",
   "execution_count": null,
   "metadata": {
    "colab": {
     "base_uri": "https://localhost:8080/",
     "height": 515
    },
    "colab_type": "code",
    "id": "9wR-aub1KEIj",
    "outputId": "260e5181-75cf-4fa8-8f59-708df75fb0c8"
   },
   "outputs": [],
   "source": [
    "import pandas as pd\n",
    "columns = ['age', 'workclass', 'fnlwgt', 'education', 'education_num',\n",
    "    'marital_status', 'occupation', 'relationship', 'ethnicity', 'gender','capital_gain','capital_loss','hours_per_week','country_of_origin','income']\n",
    "df = pd.read_csv('http://archive.ics.uci.edu/ml/machine-learning-databases/adult/adult.data',names=columns)\n",
    "df.head(10)"
   ]
  },
  {
   "cell_type": "code",
   "execution_count": null,
   "metadata": {
    "colab": {
     "base_uri": "https://localhost:8080/",
     "height": 357
    },
    "colab_type": "code",
    "id": "hID1TNlKKdB4",
    "outputId": "70605ec4-96bc-471b-e68b-e463a7b4bdcc"
   },
   "outputs": [],
   "source": [
    "# Displays the rows, columns, data types and memory used by the dataframe\n",
    "df.info()"
   ]
  },
  {
   "cell_type": "code",
   "execution_count": null,
   "metadata": {
    "colab": {
     "base_uri": "https://localhost:8080/",
     "height": 34
    },
    "colab_type": "code",
    "id": "PBnmb142KfhT",
    "outputId": "97b4f5e8-39fc-4a8f-a495-f98a2acbcf81"
   },
   "outputs": [],
   "source": [
    "# Displays the no of data points and columns in the dataframe\n",
    "df.shape"
   ]
  },
  {
   "cell_type": "code",
   "execution_count": null,
   "metadata": {
    "colab": {
     "base_uri": "https://localhost:8080/",
     "height": 122
    },
    "colab_type": "code",
    "id": "wib9eVHRLach",
    "outputId": "fba855a4-20a9-42b8-d809-1160747b8397"
   },
   "outputs": [],
   "source": [
    "# Display all columns of the dataframe\n",
    "df.columns"
   ]
  },
  {
   "cell_type": "code",
   "execution_count": null,
   "metadata": {
    "colab": {
     "base_uri": "https://localhost:8080/",
     "height": 317
    },
    "colab_type": "code",
    "id": "hdOSdNlULdA5",
    "outputId": "50b9fe36-9e0e-48aa-a84d-e48f56386a13"
   },
   "outputs": [],
   "source": [
    "# Displays summary statistics for each numerical column in the dataframe\n",
    "df.describe()"
   ]
  },
  {
   "cell_type": "markdown",
   "metadata": {
    "colab_type": "text",
    "id": "sD5KlSfcTd9o"
   },
   "source": [
    "# Selecting rows and columns in the dataframe\n"
   ]
  },
  {
   "cell_type": "code",
   "execution_count": null,
   "metadata": {
    "colab": {
     "base_uri": "https://localhost:8080/",
     "height": 204
    },
    "colab_type": "code",
    "id": "gawQcy80TgJo",
    "outputId": "a7dc8519-3e9d-45a3-eb1b-c758076d2f82"
   },
   "outputs": [],
   "source": [
    "# Selects a row\n",
    "df.iloc[10] \n",
    "\n",
    "# Selects 10 rows             \n",
    "df.iloc[0:10]\n",
    "\n",
    "# Selects a range of rows           \n",
    "df.iloc[10:15]            \n",
    "\n",
    " # Selects the last 2 rows\n",
    "df.iloc[-2:]  \n",
    "\n",
    "# Selects every other row in columns 3-5\n",
    "df.iloc[::2, 3:5].head() "
   ]
  },
  {
   "cell_type": "code",
   "execution_count": null,
   "metadata": {
    "colab": {
     "base_uri": "https://localhost:8080/",
     "height": 359
    },
    "colab_type": "code",
    "id": "5UPm1FfxY6Ci",
    "outputId": "8faeb4b0-77b1-4e63-84f2-3a8ccce7d096"
   },
   "outputs": [],
   "source": [
    "import pandas as pd\n",
    "import numpy as np\n",
    "\n",
    "np.random.seed(24)\n",
    "df = pd.DataFrame({'F': np.linspace(1, 10, 10)})\n",
    "df = pd.concat([df, pd.DataFrame(np.random.randn(10, 5), columns=list('EDCBA'))],\n",
    "               axis=1)\n",
    "df.iloc[0, 2] = np.nan\n",
    "df"
   ]
  },
  {
   "cell_type": "code",
   "execution_count": null,
   "metadata": {
    "colab": {},
    "colab_type": "code",
    "id": "jxhzDHBBZcRJ"
   },
   "outputs": [],
   "source": [
    "# Define a function that should color the values that are less than 0 \n",
    "def colorNegativeValueToRed(value):\n",
    "  if value < 0:\n",
    "    color = 'red'\n",
    "  elif value > 0:\n",
    "    color = 'black'\n",
    "  else:\n",
    "    color = 'green'\n",
    "\n",
    "  return 'color: %s' % color"
   ]
  },
  {
   "cell_type": "code",
   "execution_count": null,
   "metadata": {
    "colab": {
     "base_uri": "https://localhost:8080/",
     "height": 250
    },
    "colab_type": "code",
    "id": "y_LyCSgJZftx",
    "outputId": "d63c5e6a-d395-41dd-8069-0d4cb7655ab9"
   },
   "outputs": [],
   "source": [
    "s = df.style.applymap(colorNegativeValueToRed, subset=['A','B','C','D','E'])\n",
    "s"
   ]
  },
  {
   "cell_type": "code",
   "execution_count": null,
   "metadata": {
    "colab": {},
    "colab_type": "code",
    "id": "X1hCinxPaHFg"
   },
   "outputs": [],
   "source": [
    "# Let us hightlight max value in the column with green background and min value with orange background\n",
    "def highlightMax(s):\n",
    "    isMax = s == s.max()\n",
    "    return ['background-color: orange' if v else '' for v in isMax]\n",
    "\n",
    "def highlightMin(s):\n",
    "    isMin = s == s.min()\n",
    "    return ['background-color: green' if v else '' for v in isMin]"
   ]
  },
  {
   "cell_type": "code",
   "execution_count": null,
   "metadata": {
    "colab": {
     "base_uri": "https://localhost:8080/",
     "height": 250
    },
    "colab_type": "code",
    "id": "p5EDYgUxau5T",
    "outputId": "6403a08c-297a-48f8-d885-f6268d28874d"
   },
   "outputs": [],
   "source": [
    "df.style.apply(highlightMax).apply(highlightMin).highlight_null(null_color='red')\n"
   ]
  },
  {
   "cell_type": "code",
   "execution_count": null,
   "metadata": {
    "colab": {
     "base_uri": "https://localhost:8080/",
     "height": 304
    },
    "colab_type": "code",
    "id": "-cHAMWkfbylZ",
    "outputId": "9c37931b-f9ab-4666-c27f-f57955c1c39b"
   },
   "outputs": [],
   "source": [
    "import seaborn as sns\n",
    "\n",
    "cm = sns.light_palette(\"pink\", as_cmap=True)\n",
    "\n",
    "s = df.style.background_gradient(cmap=cm)\n",
    "s"
   ]
  },
  {
   "cell_type": "code",
   "execution_count": null,
   "metadata": {
    "colab": {
     "base_uri": "https://localhost:8080/",
     "height": 34
    },
    "colab_type": "code",
    "id": "3cIAiFAsmxvJ",
    "outputId": "a4bcdd75-9222-47c5-8264-068a7968d60f"
   },
   "outputs": [],
   "source": [
    "class Disease:\n",
    "  def __init__(self, disease = 'Depression'):\n",
    "    self.type = disease\n",
    "    \n",
    "  def getName(self):\n",
    "    print(\"Mental Health Diseases: {0}\".format(self.type))\n",
    "\n",
    "d1 = Disease('Social Anxiety Disorder')\n",
    "d1.getName()"
   ]
  },
  {
   "cell_type": "code",
   "execution_count": null,
   "metadata": {
    "colab": {
     "base_uri": "https://localhost:8080/",
     "height": 51
    },
    "colab_type": "code",
    "id": "3Nfj3YSbm905",
    "outputId": "6acd1884-87cd-4de3-9fbf-e84b3d5a8d3c"
   },
   "outputs": [],
   "source": [
    "try:\n",
    "  Value = int(input(\"Type a number between 1 and 10:\"))\n",
    "except ValueError:\n",
    "   print(\"You must type a number between 1 and 10!\")\n",
    "else:\n",
    "   if (Value > 0) and (Value <= 10):\n",
    "       print(\"You typed: \", Value)\n",
    "   else:\n",
    "       print(\"The value you typed is incorrect!\")"
   ]
  }
 ],
 "metadata": {
  "colab": {
   "collapsed_sections": [],
   "name": "Numpy and Pandas.ipynb",
   "provenance": []
  },
  "kernelspec": {
   "display_name": "Python 3 (ipykernel)",
   "language": "python",
   "name": "python3"
  },
  "language_info": {
   "codemirror_mode": {
    "name": "ipython",
    "version": 3
   },
   "file_extension": ".py",
   "mimetype": "text/x-python",
   "name": "python",
   "nbconvert_exporter": "python",
   "pygments_lexer": "ipython3",
   "version": "3.9.7"
  }
 },
 "nbformat": 4,
 "nbformat_minor": 1
}
