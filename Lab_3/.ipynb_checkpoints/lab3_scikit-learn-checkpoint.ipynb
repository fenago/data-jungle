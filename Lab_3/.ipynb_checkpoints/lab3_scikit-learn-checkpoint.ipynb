{
 "cells": [
  {
   "cell_type": "markdown",
   "id": "fff550ba",
   "metadata": {},
   "source": [
    "## Scikit-learn Tutorial"
   ]
  },
  {
   "cell_type": "code",
   "execution_count": null,
   "id": "afb29c5a",
   "metadata": {},
   "outputs": [],
   "source": [
    "#import necessary modules\n",
    "import pandas as pd\n",
    "import warnings\n",
    "warnings.simplefilter(action='ignore', category=Warning)\n",
    "\n",
    "#store the url in a variable\n",
    "url = \"./WA_Fn-UseC_-Sales-Win-Loss.csv\""
   ]
  },
  {
   "cell_type": "code",
   "execution_count": null,
   "id": "99ea340f",
   "metadata": {},
   "outputs": [],
   "source": [
    "# Read in the data with `read_csv()`\n",
    "sales_data = pd.read_csv(url)"
   ]
  },
  {
   "cell_type": "code",
   "execution_count": null,
   "id": "7afb407d",
   "metadata": {},
   "outputs": [],
   "source": [
    "# Using .head() method to view the first few records of the data set\n",
    "sales_data.head()"
   ]
  },
  {
   "cell_type": "code",
   "execution_count": null,
   "id": "30e1cf4e",
   "metadata": {},
   "outputs": [],
   "source": [
    "# Using head() method with an argument which helps us to restrict the number of initial records that should be displayed\n",
    "sales_data.head(n=2)"
   ]
  },
  {
   "cell_type": "code",
   "execution_count": null,
   "id": "657582d3",
   "metadata": {},
   "outputs": [],
   "source": [
    "# Using .tail() method to view the last few records from the dataframe\n",
    "sales_data.tail()"
   ]
  },
  {
   "cell_type": "code",
   "execution_count": null,
   "id": "151bd661",
   "metadata": {},
   "outputs": [],
   "source": [
    "# Using .tail() method with an argument which helps us to restrict the number of initial records that should be displayed\n",
    "sales_data.tail(n=2)"
   ]
  },
  {
   "cell_type": "code",
   "execution_count": null,
   "id": "271fe486",
   "metadata": {},
   "outputs": [],
   "source": [
    "# using the dtypes() method to display the different datatypes available\n",
    "sales_data.dtypes"
   ]
  },
  {
   "cell_type": "code",
   "execution_count": null,
   "id": "8d98e79e",
   "metadata": {},
   "outputs": [],
   "source": []
  },
  {
   "cell_type": "code",
   "execution_count": null,
   "id": "4cf76a8c",
   "metadata": {},
   "outputs": [],
   "source": [
    "# import the seaborn module\n",
    "import seaborn as sns\n",
    "# import the matplotlib module\n",
    "import matplotlib.pyplot as plt\n",
    "# set the background colour of the plot to white\n",
    "sns.set(style=\"whitegrid\", color_codes=True)\n",
    "# setting the plot size for all plots\n",
    "sns.set(rc={'figure.figsize':(11.7,8.27)})\n",
    "# create a countplot\n",
    "sns.countplot('Route To Market',data=sales_data,hue = 'Opportunity Result')\n",
    "# Remove the top and down margin\n",
    "sns.despine(offset=10, trim=True)\n",
    "# display the plotplt.show()"
   ]
  },
  {
   "cell_type": "code",
   "execution_count": null,
   "id": "c00b4199",
   "metadata": {},
   "outputs": [],
   "source": []
  },
  {
   "cell_type": "code",
   "execution_count": null,
   "id": "437a83d1",
   "metadata": {},
   "outputs": [],
   "source": [
    "# import the seaborn module\n",
    "import seaborn as sns\n",
    "# import the matplotlib module\n",
    "import matplotlib.pyplot as plt\n",
    "# setting the plot size for all plots\n",
    "sns.set(rc={'figure.figsize':(16.7,13.27)})"
   ]
  },
  {
   "cell_type": "code",
   "execution_count": null,
   "id": "444a88d3",
   "metadata": {},
   "outputs": [],
   "source": []
  },
  {
   "cell_type": "code",
   "execution_count": null,
   "id": "39e594b5",
   "metadata": {},
   "outputs": [],
   "source": [
    "# plotting the violinplot\n",
    "sns.violinplot(x=\"Opportunity Result\",y=\"Client Size By Revenue\", hue=\"Opportunity Result\", data=sales_data);\n",
    "plt.show()"
   ]
  },
  {
   "cell_type": "code",
   "execution_count": null,
   "id": "a8bada91",
   "metadata": {},
   "outputs": [],
   "source": []
  },
  {
   "cell_type": "markdown",
   "id": "54902b5a",
   "metadata": {},
   "source": [
    "### Preprocessing Data"
   ]
  },
  {
   "cell_type": "code",
   "execution_count": null,
   "id": "f5a45785",
   "metadata": {},
   "outputs": [],
   "source": [
    "#import the necessary module\n",
    "from sklearn import preprocessing\n",
    "# create the Labelencoder object\n",
    "le = preprocessing.LabelEncoder()\n",
    "#convert the categorical columns into numeric\n",
    "encoded_value = le.fit_transform([\"paris\", \"paris\", \"tokyo\", \"amsterdam\"])\n",
    "print(encoded_value)"
   ]
  },
  {
   "cell_type": "code",
   "execution_count": null,
   "id": "e755cf05",
   "metadata": {},
   "outputs": [],
   "source": [
    "print(\"Supplies Subgroup' : \",sales_data['Supplies Subgroup'].unique())\n",
    "print(\"Region : \",sales_data['Region'].unique())\n",
    "print(\"Route To Market : \",sales_data['Route To Market'].unique())\n",
    "print(\"Opportunity Result : \",sales_data['Opportunity Result'].unique())\n",
    "print(\"Competitor Type : \",sales_data['Competitor Type'].unique())\n",
    "print(\"'Supplies Group : \",sales_data['Supplies Group'].unique())"
   ]
  },
  {
   "cell_type": "code",
   "execution_count": null,
   "id": "e6a1828b",
   "metadata": {},
   "outputs": [],
   "source": []
  },
  {
   "cell_type": "code",
   "execution_count": null,
   "id": "0e32ca11",
   "metadata": {},
   "outputs": [],
   "source": [
    "#import the necessary module\n",
    "from sklearn import preprocessing\n",
    "# create the Labelencoder object\n",
    "le = preprocessing.LabelEncoder()\n",
    "#convert the categorical columns into numeric\n",
    "sales_data['Supplies Subgroup'] = le.fit_transform(sales_data['Supplies Subgroup'])\n",
    "sales_data['Region'] = le.fit_transform(sales_data['Region'])\n",
    "sales_data['Route To Market'] = le.fit_transform(sales_data['Route To Market'])\n",
    "sales_data['Opportunity Result'] = le.fit_transform(sales_data['Opportunity Result'])\n",
    "sales_data['Competitor Type'] = le.fit_transform(sales_data['Competitor Type'])\n",
    "sales_data['Supplies Group'] = le.fit_transform(sales_data['Supplies Group'])\n",
    "#display the initial records\n",
    "sales_data.head()"
   ]
  },
  {
   "cell_type": "code",
   "execution_count": null,
   "id": "34898c76",
   "metadata": {},
   "outputs": [],
   "source": []
  },
  {
   "cell_type": "markdown",
   "id": "d3cbc6e6",
   "metadata": {},
   "source": [
    "### Training Set & Test Set"
   ]
  },
  {
   "cell_type": "code",
   "execution_count": null,
   "id": "89890f19",
   "metadata": {},
   "outputs": [],
   "source": [
    "# select columns other than 'Opportunity Number','Opportunity Result'\n",
    "cols = [col for col in sales_data.columns if col not in ['Opportunity Number','Opportunity Result']]\n",
    "# dropping the 'Opportunity Number'and 'Opportunity Result' columns\n",
    "data = sales_data[cols]\n",
    "#assigning the Oppurtunity Result column as target\n",
    "target = sales_data['Opportunity Result']\n",
    "data.head(n=2)"
   ]
  },
  {
   "cell_type": "code",
   "execution_count": null,
   "id": "db6a85c1",
   "metadata": {},
   "outputs": [],
   "source": [
    "#import the necessary module\n",
    "from sklearn.model_selection import train_test_split\n",
    "#split data set into train and test sets\n",
    "data_train, data_test, target_train, target_test = train_test_split(data,target, test_size = 0.30, random_state = 10)"
   ]
  },
  {
   "cell_type": "code",
   "execution_count": null,
   "id": "9a15d22d",
   "metadata": {},
   "outputs": [],
   "source": []
  },
  {
   "cell_type": "markdown",
   "id": "076c40df",
   "metadata": {},
   "source": [
    "### Naive-Bayes"
   ]
  },
  {
   "cell_type": "code",
   "execution_count": null,
   "id": "47588d28",
   "metadata": {},
   "outputs": [],
   "source": [
    "# import the necessary module\n",
    "from sklearn.naive_bayes import GaussianNB\n",
    "from sklearn.metrics import accuracy_score\n",
    "#create an object of the type GaussianNB\n",
    "gnb = GaussianNB()\n",
    "#train the algorithm on training data and predict using the testing data\n",
    "pred = gnb.fit(data_train, target_train).predict(data_test)\n",
    "#print(pred.tolist())\n",
    "#print the accuracy score of the model\n",
    "print(\"Naive-Bayes accuracy : \",accuracy_score(target_test, pred, normalize = True))"
   ]
  },
  {
   "cell_type": "code",
   "execution_count": null,
   "id": "c00be735",
   "metadata": {},
   "outputs": [],
   "source": []
  },
  {
   "cell_type": "markdown",
   "id": "69a55771",
   "metadata": {},
   "source": [
    "### LinearSVC"
   ]
  },
  {
   "cell_type": "code",
   "execution_count": null,
   "id": "45ac9bb6",
   "metadata": {},
   "outputs": [],
   "source": [
    "#import the necessary modules\n",
    "from sklearn.svm import LinearSVC\n",
    "from sklearn.metrics import accuracy_score\n",
    "#create an object of type LinearSVC\n",
    "svc_model = LinearSVC(random_state=0)\n",
    "#train the algorithm on training data and predict using the testing data\n",
    "pred = svc_model.fit(data_train, target_train).predict(data_test)\n",
    "#print the accuracy score of the model\n",
    "print(\"LinearSVC accuracy : \",accuracy_score(target_test, pred, normalize = True))"
   ]
  },
  {
   "cell_type": "code",
   "execution_count": null,
   "id": "dd92d485",
   "metadata": {},
   "outputs": [],
   "source": []
  },
  {
   "cell_type": "markdown",
   "id": "ccbab119",
   "metadata": {},
   "source": [
    "### K-Neighbors Classifier"
   ]
  },
  {
   "cell_type": "code",
   "execution_count": null,
   "id": "d6d53c9c",
   "metadata": {},
   "outputs": [],
   "source": [
    "#import necessary modules\n",
    "from sklearn.neighbors import KNeighborsClassifier\n",
    "from sklearn.metrics import accuracy_score\n",
    "#create object of the lassifier\n",
    "neigh = KNeighborsClassifier(n_neighbors=3)\n",
    "#Train the algorithm\n",
    "neigh.fit(data_train, target_train)\n",
    "# predict the response\n",
    "pred = neigh.predict(data_test)\n",
    "# evaluate accuracy\n",
    "print (\"KNeighbors accuracy score : \",accuracy_score(target_test, pred))"
   ]
  },
  {
   "cell_type": "code",
   "execution_count": null,
   "id": "5a09116e",
   "metadata": {},
   "outputs": [],
   "source": []
  },
  {
   "cell_type": "markdown",
   "id": "62907477",
   "metadata": {},
   "source": [
    "## Performance Comparison"
   ]
  },
  {
   "cell_type": "markdown",
   "id": "35b3f056",
   "metadata": {},
   "source": [
    "### GaussianNB"
   ]
  },
  {
   "cell_type": "code",
   "execution_count": null,
   "id": "39a3167f",
   "metadata": {},
   "outputs": [],
   "source": [
    "from yellowbrick.classifier import ClassificationReport\n",
    "# Instantiate the classification model and visualizer\n",
    "visualizer = ClassificationReport(gnb, classes=['Won','Loss'])\n",
    "visualizer.fit(data_train, target_train) # Fit the training data to the visualizer\n",
    "visualizer.score(data_test, target_test) # Evaluate the model on the test data\n",
    "g = visualizer.poof() # Draw/show/poof the data"
   ]
  },
  {
   "cell_type": "code",
   "execution_count": null,
   "id": "0a51dc55",
   "metadata": {},
   "outputs": [],
   "source": []
  },
  {
   "cell_type": "markdown",
   "id": "8955cb52",
   "metadata": {},
   "source": [
    "### LinearSVC"
   ]
  },
  {
   "cell_type": "code",
   "execution_count": null,
   "id": "3b25f933",
   "metadata": {},
   "outputs": [],
   "source": [
    "from yellowbrick.classifier import ClassificationReport\n",
    "# Instantiate the classification model and visualizer\n",
    "visualizer = ClassificationReport(svc_model, classes=['Won','Loss'])\n",
    "visualizer.fit(data_train, target_train) # Fit the training data to the visualizer\n",
    "visualizer.score(data_test, target_test) # Evaluate the model on the test data\n",
    "g = visualizer.poof() # Draw/show/poof the data"
   ]
  },
  {
   "cell_type": "code",
   "execution_count": null,
   "id": "a4210c42",
   "metadata": {},
   "outputs": [],
   "source": []
  },
  {
   "cell_type": "markdown",
   "id": "04fd1dca",
   "metadata": {},
   "source": [
    "### KNeighborsClassifier"
   ]
  },
  {
   "cell_type": "code",
   "execution_count": null,
   "id": "535a8749",
   "metadata": {},
   "outputs": [],
   "source": [
    "from yellowbrick.classifier import ClassificationReport\n",
    "# Instantiate the classification model and visualizer\n",
    "visualizer = ClassificationReport(neigh, classes=['Won','Loss'])\n",
    "visualizer.fit(data_train, target_train) # Fit the training data to the visualizer\n",
    "visualizer.score(data_test, target_test) # Evaluate the model on the test data\n",
    "g = visualizer.poof() # Draw/show/poof the data"
   ]
  },
  {
   "cell_type": "code",
   "execution_count": null,
   "id": "1c87a2f7",
   "metadata": {},
   "outputs": [],
   "source": []
  },
  {
   "cell_type": "code",
   "execution_count": null,
   "id": "78ac786d",
   "metadata": {},
   "outputs": [],
   "source": []
  }
 ],
 "metadata": {
  "kernelspec": {
   "display_name": "Python 3 (ipykernel)",
   "language": "python",
   "name": "python3"
  },
  "language_info": {
   "codemirror_mode": {
    "name": "ipython",
    "version": 3
   },
   "file_extension": ".py",
   "mimetype": "text/x-python",
   "name": "python",
   "nbconvert_exporter": "python",
   "pygments_lexer": "ipython3",
   "version": "3.9.7"
  }
 },
 "nbformat": 4,
 "nbformat_minor": 5
}
